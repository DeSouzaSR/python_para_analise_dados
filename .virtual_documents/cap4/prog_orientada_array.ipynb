





import numpy as np


points = np.arange(-5, 5, 0.01) # 1000 pontos, igualmente espaçados


xs, ys = np.meshgrid(points, points)


xs


z = np.sqrt(xs**2 + ys**2)


z





import matplotlib.pyplot as plt


plt.imshow(z, cmap = plt.cm.gray)
plt.colorbar()
plt.show()





w = xs**2 - ys**2
w


plt.imshow(w, cmap = plt.cm.gray)
plt.colorbar()
plt.show()


import GPUtil


GPUtil.getAvailable()


import torch
use_cuda = torch.cuda.is_available()


use_cuda


if use_cuda:
    print('__CUDNN VERSION:', torch.backends.cudnn.version())
    print('__Number CUDA Devices:', torch.cuda.device_count())
    print('__CUDA Device Name:',torch.cuda.get_device_name(0))
    print('__CUDA Device Total Memory [GB]:',torch.cuda.get_device_properties(0).total_memory/1e9)



