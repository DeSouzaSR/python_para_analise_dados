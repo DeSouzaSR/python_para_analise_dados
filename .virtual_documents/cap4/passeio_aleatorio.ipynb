


import numpy as np
import matplotlib.pyplot as plt





import random
position = 0
walk = [position]
steps = 1000
for i in range(steps):
    step = 1 if  random.randint(0, 1) else -1
    position += step
    walk.append(position)


plt.plot(walk)





nsteps = 1000
draws = np.random.randint(0, 2, size=nsteps)
steps = np.where(draws > 0, 1, -1)
walk = steps.cumsum()





nwalks = 5000 # número de passeios aleatórios
steps = 1000
draws = np.random.randint(0, 2, size=(nwalks, nsteps))
steps = np.where(draws > 0, 1, -1)
walks = steps.cumsum(1)


x = np.arange(len(walks[:,0]))
plt.plot(x, walks[:,2])
plt.show()


x.shape



